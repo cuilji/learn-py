{
 "cells": [
  {
   "cell_type": "code",
   "execution_count": 208,
   "metadata": {},
   "outputs": [
    {
     "name": "stdout",
     "output_type": "stream",
     "text": [
      "1250\n",
      "田雷\n"
     ]
    }
   ],
   "source": [
    "import requests\n",
    "from lxml import etree\n",
    "\n",
    "url='https://www.guancha.cn/'\n",
    "resp=requests.get(url)\n",
    "resp.encoding='utf-8'\n",
    "selector=etree.HTML(resp.text)\n",
    "item=selector.xpath(\"//a//text()\")\n",
    "print(len(item))\n",
    "#print(item)\n",
    "for each in item:\n",
    "    if '田雷' in each:\n",
    "        print(each)\n",
    "    "
   ]
  }
 ],
 "metadata": {
  "kernelspec": {
   "display_name": "Python 3",
   "language": "python",
   "name": "python3"
  },
  "language_info": {
   "codemirror_mode": {
    "name": "ipython",
    "version": 3
   },
   "file_extension": ".py",
   "mimetype": "text/x-python",
   "name": "python",
   "nbconvert_exporter": "python",
   "pygments_lexer": "ipython3",
   "version": "3.6.5"
  }
 },
 "nbformat": 4,
 "nbformat_minor": 2
}
