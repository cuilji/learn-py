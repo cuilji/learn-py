{
 "cells": [
  {
   "cell_type": "code",
   "execution_count": 31,
   "metadata": {},
   "outputs": [
    {
     "name": "stdout",
     "output_type": "stream",
     "text": [
      "2057\n",
      "辽宁舰同款雷达已被美国买到 卖家是他们\n",
      "http://mil.news.sina.com.cn/jssd/ \n",
      "辽宁\n",
      "http://ln.sina.com.cn/\n"
     ]
    }
   ],
   "source": [
    "import requests\n",
    "from lxml import etree\n",
    "\n",
    "#url='https://www.guancha.cn/'\n",
    "url = 'https://www.sina.com.cn/'\n",
    "resp=requests.get(url)\n",
    "resp.encoding='utf-8'\n",
    "selector=etree.HTML(resp.text)\n",
    "item=selector.xpath(\"//a\")\n",
    "print(len(item))\n",
    "# print(type(item))\n",
    "# print(type(item[1]))\n",
    "#print(item[4].text)\n",
    "# print(item[1].base)\n",
    "# print(item[1].tag)\n",
    "#print(item[4].attrib)\n",
    "# print(item[1].nsmap)\n",
    "# print(item[1].get('title'))\n",
    "for each in item:\n",
    "    if '辽宁' in str(each.text):\n",
    "        print(each.text)\n",
    "        print(each.get('href'))\n"
   ]
  }
 ],
 "metadata": {
  "kernelspec": {
   "display_name": "Python 3",
   "language": "python",
   "name": "python3"
  },
  "language_info": {
   "codemirror_mode": {
    "name": "ipython",
    "version": 3
   },
   "file_extension": ".py",
   "mimetype": "text/x-python",
   "name": "python",
   "nbconvert_exporter": "python",
   "pygments_lexer": "ipython3",
   "version": "3.6.5"
  }
 },
 "nbformat": 4,
 "nbformat_minor": 2
}
