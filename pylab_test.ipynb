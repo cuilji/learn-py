{
 "cells": [
  {
   "cell_type": "code",
   "execution_count": 1,
   "metadata": {},
   "outputs": [
    {
     "name": "stdout",
     "output_type": "stream",
     "text": [
      "Populating the interactive namespace from numpy and matplotlib\n"
     ]
    }
   ],
   "source": [
    "%pylab inline"
   ]
  },
  {
   "cell_type": "code",
   "execution_count": 28,
   "metadata": {},
   "outputs": [
    {
     "data": {
      "text/plain": [
       "Text(0.2,0.5,'East & South')"
      ]
     },
     "execution_count": 28,
     "metadata": {},
     "output_type": "execute_result"
    },
    {
     "data": {
      "image/png": "[encoded data removed]",
      "text/plain": [
       "<Figure size 432x288 with 1 Axes>"
      ]
     },
     "metadata": {},
     "output_type": "display_data"
    }
   ],
   "source": [
    "from pylab import *\n",
    "x = [0,1,2,3]\n",
    "y = [2,4,6,6]\n",
    "plot(x,y)\n",
    "figtext(0.5, 0.2, u'North & West')\n",
    "figtext(0.2, 0.5, 'East & South')\n",
    "#show()"
   ]
  },
  {
   "cell_type": "code",
   "execution_count": 32,
   "metadata": {},
   "outputs": [
    {
     "data": {
      "text/plain": [
       "2.2777859030683096"
      ]
     },
     "execution_count": 32,
     "metadata": {},
     "output_type": "execute_result"
    }
   ],
   "source": [
    "from math import *\n",
    "\n",
    "def bs_call(S,X,T,r,sigma):\n",
    "    d1=(log(S/X)+(r+sigma*sigma/2)*T)/(sigma*sqrt(T))\n",
    "    d2=d1-sigma*sqrt(T)\n",
    "    return S*CND(d1)-X*exp(-r*T)*CND(d2)\n",
    "\n",
    "def CND(X):\n",
    "    (a1,a2,a3,a4,a5)=(0.31938153, -0.356563782,1.781477937, -1.821255978, 1.330274429)\n",
    "    L=abs(X)\n",
    "    K=1.0/(1.0 + 0.2316419*L)\n",
    "    w=1.0-1.0/sqrt(2*pi)*exp(-L*L/2)*(a1*K + a2*K*K+a3*pow(K,3)+a4*pow(K,4)+a5*pow(K,5))\n",
    "    if X < 0:\n",
    "        w=1.0-w\n",
    "    return w\n",
    "\n",
    "bs_call(40,42,0.5,0.1,0.2)"
   ]
  }
 ],
 "metadata": {
  "kernelspec": {
   "display_name": "Python 3",
   "language": "python",
   "name": "python3"
  },
  "language_info": {
   "codemirror_mode": {
    "name": "ipython",
    "version": 3
   },
   "file_extension": ".py",
   "mimetype": "text/x-python",
   "name": "python",
   "nbconvert_exporter": "python",
   "pygments_lexer": "ipython3",
   "version": "3.6.5"
  }
 },
 "nbformat": 4,
 "nbformat_minor": 2
}
